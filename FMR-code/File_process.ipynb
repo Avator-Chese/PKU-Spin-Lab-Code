{
 "cells": [
  {
   "cell_type": "code",
   "execution_count": 3,
   "metadata": {
    "collapsed": false,
    "scrolled": false
   },
   "outputs": [],
   "source": [
    "import numpy as np\n",
    "import pandas as pd\n",
    "import re\n",
    "import os\n",
    "import sys \n",
    "import matplotlib.pyplot as plt\n",
    "import sys\n",
    "# sys.path.append('E:\\\\python\\\\python FMR_analyse\\\\FMR__Songqi')\n",
    "import sqa \n",
    "import statsmodels.api as sm\n",
    "%matplotlib qt\n",
    "import ast\n"
   ]
  },
  {
   "cell_type": "code",
   "execution_count": 7,
   "metadata": {},
   "outputs": [],
   "source": [
    "x=np.arange(0,10,1)\n",
    "y=x**2\n",
    "plt.plot(x,y)\n",
    "plt.show()"
   ]
  },
  {
   "cell_type": "code",
   "execution_count": 4,
   "metadata": {},
   "outputs": [
    {
     "name": "stdout",
     "output_type": "stream",
     "text": [
      "[25, 300, 10, 200, 150, 100, 50]\n",
      "1st_T=300K_-5dBm_H=15000Oe_S21.txt\n",
      "1st_T=300K_-5dBm_H=15000Oe_S21.txt\n",
      "2st_T=200K_-5dBm_H=15000Oe_S21.txt\n",
      "2st_T=200K_-5dBm_H=15000Oe_S21.txt\n",
      "3st_T=150K_-5dBm_H=15000Oe_S21.txt\n",
      "3st_T=150K_-5dBm_H=15000Oe_S21.txt\n",
      "4st_T=100K_-5dBm_H=15000Oe_S21.txt\n",
      "4st_T=100K_-5dBm_H=15000Oe_S21.txt\n",
      "5st_T=50K_-5dBm_H=15000Oe_S21.txt\n",
      "5st_T=50K_-5dBm_H=15000Oe_S21.txt\n",
      "1st_T=25K_-5dBm_H=15000Oe_S21.txt\n",
      "6st_T=25K_-5dBm_H=15000Oe_S21.txt\n",
      "2st_T=10K_-5dBm_H=15000Oe_S21.txt\n",
      "7st_T=10K_-5dBm_H=15000Oe_S21.txt\n"
     ]
    }
   ],
   "source": [
    "folder = r'D:\\ShareCache\\郭亮亮_2101110192\\科研\\All-Data\\FMR\\PPMS-data\\20220718(New CrO2 200nm-1)\\45 degree\\PNA-40GHz'\n",
    "# folder = 'D:\\\\ShareCache\\\\郭亮亮_2101110192\\\\SFS\\\\SFS\\\\Nb-Py-Nb\\\\new 2nd\\\\S5098\\\\30nm\\\\1st-2'\n",
    "# folder = 'D:\\\\ShareCache\\\\郭亮亮_2101110192\\\\科研\\\\All-Data\\\\FMR\\\\PPMS-data\\\\20211029(Py-Nb-Py-sample-20211027)'\n",
    "\n",
    "# folder = 'D:\\\\ShareCache\\\\郭亮亮_2101110192\\\\科研\\All-Data\\\\FMR\\PPMS-data\\\\20210814-Si-Py(sample-2021-08-11)'\n",
    "\n",
    "files = os.listdir(folder)\n",
    "\n",
    "files = []\n",
    "all_files = os.listdir(folder)\n",
    "for file in all_files:\n",
    "    if os.path.splitext(file)[1] == '.txt':\n",
    "        files.append(file)\n",
    "file_form = 'Ist_T=ValueK_-5dBm_H=15000Oe_S21.txt'\n",
    "T = []\n",
    "for i in files:\n",
    "    T.append(ast.literal_eval(re.findall(r'(\\d+\\.?\\d*)K', i)[0]))\n",
    "# T.sort(reverse=True)\n",
    "T_new=T.copy()\n",
    "T_new.sort(reverse=True)\n",
    "T_new\n",
    "print(T)\n",
    "for i in T_new:\n",
    "    order_old = T.index(i) + 1\n",
    "    old_name = files[order_old - 1]\n",
    "\n",
    "    order_new = T_new.index(i) + 1\n",
    "    new_name = file_form.replace('I', str(order_new)).replace('Value', str(i))\n",
    "    print(old_name)\n",
    "    print(new_name)\n",
    "    if new_name != old_name:\n",
    "        os.rename(folder + '\\\\' + old_name, folder + '\\\\' + new_name)\n"
   ]
  },
  {
   "cell_type": "code",
   "execution_count": 2,
   "metadata": {},
   "outputs": [
    {
     "name": "stdout",
     "output_type": "stream",
     "text": [
      "300K\n"
     ]
    }
   ],
   "source": [
    "print(f'{300}K')"
   ]
  },
  {
   "cell_type": "code",
   "execution_count": null,
   "metadata": {},
   "outputs": [],
   "source": [
    "# print(T)\n",
    "# for i in T_new:\n",
    "#     order_old=T.index(i)+1\n",
    "#     old_name=files[order_old-1]\n",
    "    \n",
    "#     order_new=T_new.index(i)+1\n",
    "#     new_name=file_form.replace('I',str(order_new)).replace('Value',str(i))\n",
    "#     print(old_name)\n",
    "#     print(new_name)\n",
    "#     if new_name!=old_name:\n",
    "#         os.rename(folder+'\\\\'+old_name,folder+'\\\\'+new_name)"
   ]
  },
  {
   "cell_type": "code",
   "execution_count": 14,
   "metadata": {},
   "outputs": [
    {
     "name": "stdout",
     "output_type": "stream",
     "text": [
      "You are using inputed Temperature\n",
      "You are process 300K's data\n"
     ]
    }
   ],
   "source": [
    "jud = 1\n",
    "if jud == 0:\n",
    "    print('You are using file\\'s Temperature')\n",
    "    choose_T = T[0]\n",
    "    T = np.delete(T, 0)\n",
    "elif jud == 1:\n",
    "    print('You are using inputed Temperature')\n",
    "    choose_T = int(input())\n",
    "print('You are process ' + str(choose_T) + 'K\\'s data')\n",
    "\n",
    "# table_lineshape_fit = sqa.origin_creat_table('FMRfit_' + str(choose_T) + 'K')\n",
    "# longname_unit_comment1 = [['sysmetrical height', '', ''],\n",
    "#                           ['resonance field', '', ''],\n",
    "#                           ['half linewidth', '', ''],\n",
    "#                           ['asysmetrical height', '', ''],\n",
    "#                           ['linear slope', '', ''], ['constant', '', '']]\n",
    "\n",
    "order = str(T_new.index(choose_T) + 1)\n",
    "\n",
    "filename = file_form.replace('Value', str(choose_T)).replace('I', order)\n",
    "data = sqa.fmr_load_data(folder + '\\\\' + filename)\n",
    "# data.index=abs(data.index)\n",
    "# print(data)\n",
    "\n",
    "sqa.fmr_mesh_dataframe(data)"
   ]
  },
  {
   "cell_type": "code",
   "execution_count": 16,
   "metadata": {},
   "outputs": [
    {
     "data": {
      "text/html": [
       "<div>\n",
       "<style scoped>\n",
       "    .dataframe tbody tr th:only-of-type {\n",
       "        vertical-align: middle;\n",
       "    }\n",
       "\n",
       "    .dataframe tbody tr th {\n",
       "        vertical-align: top;\n",
       "    }\n",
       "\n",
       "    .dataframe thead th {\n",
       "        text-align: right;\n",
       "    }\n",
       "</style>\n",
       "<table border=\"1\" class=\"dataframe\">\n",
       "  <thead>\n",
       "    <tr style=\"text-align: right;\">\n",
       "      <th></th>\n",
       "      <th>+1.00000000000E+009</th>\n",
       "      <th>+1.25000000000E+009</th>\n",
       "      <th>+1.50000000000E+009</th>\n",
       "      <th>+1.75000000000E+009</th>\n",
       "      <th>+2.00000000000E+009</th>\n",
       "      <th>+2.25000000000E+009</th>\n",
       "      <th>+2.50000000000E+009</th>\n",
       "      <th>+2.75000000000E+009</th>\n",
       "      <th>+3.00000000000E+009</th>\n",
       "      <th>+3.25000000000E+009</th>\n",
       "      <th>...</th>\n",
       "      <th>+3.77500000000E+010</th>\n",
       "      <th>+3.80000000000E+010</th>\n",
       "      <th>+3.82500000000E+010</th>\n",
       "      <th>+3.85000000000E+010</th>\n",
       "      <th>+3.87500000000E+010</th>\n",
       "      <th>+3.90000000000E+010</th>\n",
       "      <th>+3.92500000000E+010</th>\n",
       "      <th>+3.95000000000E+010</th>\n",
       "      <th>+3.97500000000E+010</th>\n",
       "      <th>+4.00000000000E+010</th>\n",
       "    </tr>\n",
       "    <tr>\n",
       "      <th>H</th>\n",
       "      <th></th>\n",
       "      <th></th>\n",
       "      <th></th>\n",
       "      <th></th>\n",
       "      <th></th>\n",
       "      <th></th>\n",
       "      <th></th>\n",
       "      <th></th>\n",
       "      <th></th>\n",
       "      <th></th>\n",
       "      <th></th>\n",
       "      <th></th>\n",
       "      <th></th>\n",
       "      <th></th>\n",
       "      <th></th>\n",
       "      <th></th>\n",
       "      <th></th>\n",
       "      <th></th>\n",
       "      <th></th>\n",
       "      <th></th>\n",
       "      <th></th>\n",
       "    </tr>\n",
       "  </thead>\n",
       "  <tbody>\n",
       "    <tr>\n",
       "      <th>-15000.055664</th>\n",
       "      <td>-3.381689</td>\n",
       "      <td>-3.807956</td>\n",
       "      <td>-4.274226</td>\n",
       "      <td>-4.632648</td>\n",
       "      <td>-5.175172</td>\n",
       "      <td>-5.593778</td>\n",
       "      <td>-5.945998</td>\n",
       "      <td>-6.336533</td>\n",
       "      <td>-6.726492</td>\n",
       "      <td>-7.124466</td>\n",
       "      <td>...</td>\n",
       "      <td>-53.114609</td>\n",
       "      <td>-52.499779</td>\n",
       "      <td>-52.311573</td>\n",
       "      <td>-51.734653</td>\n",
       "      <td>-50.254147</td>\n",
       "      <td>-50.495087</td>\n",
       "      <td>-50.963806</td>\n",
       "      <td>-52.595760</td>\n",
       "      <td>-53.988907</td>\n",
       "      <td>-56.357117</td>\n",
       "    </tr>\n",
       "    <tr>\n",
       "      <th>-15000.034180</th>\n",
       "      <td>-3.381763</td>\n",
       "      <td>-3.807988</td>\n",
       "      <td>-4.274276</td>\n",
       "      <td>-4.632652</td>\n",
       "      <td>-5.175166</td>\n",
       "      <td>-5.593794</td>\n",
       "      <td>-5.945969</td>\n",
       "      <td>-6.336482</td>\n",
       "      <td>-6.726480</td>\n",
       "      <td>-7.124460</td>\n",
       "      <td>...</td>\n",
       "      <td>-53.120014</td>\n",
       "      <td>-52.508942</td>\n",
       "      <td>-52.332558</td>\n",
       "      <td>-51.743347</td>\n",
       "      <td>-50.253876</td>\n",
       "      <td>-50.487282</td>\n",
       "      <td>-50.973949</td>\n",
       "      <td>-52.622540</td>\n",
       "      <td>-53.993801</td>\n",
       "      <td>-56.334862</td>\n",
       "    </tr>\n",
       "    <tr>\n",
       "      <th>-15000.034180</th>\n",
       "      <td>-3.381674</td>\n",
       "      <td>-3.807832</td>\n",
       "      <td>-4.274251</td>\n",
       "      <td>-4.632551</td>\n",
       "      <td>-5.175001</td>\n",
       "      <td>-5.593697</td>\n",
       "      <td>-5.946090</td>\n",
       "      <td>-6.336463</td>\n",
       "      <td>-6.726504</td>\n",
       "      <td>-7.124444</td>\n",
       "      <td>...</td>\n",
       "      <td>-53.117935</td>\n",
       "      <td>-52.500648</td>\n",
       "      <td>-52.348171</td>\n",
       "      <td>-51.737553</td>\n",
       "      <td>-50.249184</td>\n",
       "      <td>-50.505722</td>\n",
       "      <td>-50.976566</td>\n",
       "      <td>-52.614880</td>\n",
       "      <td>-53.980991</td>\n",
       "      <td>-56.375523</td>\n",
       "    </tr>\n",
       "    <tr>\n",
       "      <th>-15000.034180</th>\n",
       "      <td>-3.381737</td>\n",
       "      <td>-3.807824</td>\n",
       "      <td>-4.274283</td>\n",
       "      <td>-4.632554</td>\n",
       "      <td>-5.175028</td>\n",
       "      <td>-5.593746</td>\n",
       "      <td>-5.946129</td>\n",
       "      <td>-6.336504</td>\n",
       "      <td>-6.726482</td>\n",
       "      <td>-7.124418</td>\n",
       "      <td>...</td>\n",
       "      <td>-53.104580</td>\n",
       "      <td>-52.513275</td>\n",
       "      <td>-52.344406</td>\n",
       "      <td>-51.750465</td>\n",
       "      <td>-50.246021</td>\n",
       "      <td>-50.494392</td>\n",
       "      <td>-50.979519</td>\n",
       "      <td>-52.610352</td>\n",
       "      <td>-53.983028</td>\n",
       "      <td>-56.375496</td>\n",
       "    </tr>\n",
       "    <tr>\n",
       "      <th>-15000.011719</th>\n",
       "      <td>-3.381753</td>\n",
       "      <td>-3.807987</td>\n",
       "      <td>-4.274257</td>\n",
       "      <td>-4.632646</td>\n",
       "      <td>-5.175115</td>\n",
       "      <td>-5.593708</td>\n",
       "      <td>-5.946013</td>\n",
       "      <td>-6.336473</td>\n",
       "      <td>-6.726509</td>\n",
       "      <td>-7.124485</td>\n",
       "      <td>...</td>\n",
       "      <td>-53.126690</td>\n",
       "      <td>-52.500172</td>\n",
       "      <td>-52.342247</td>\n",
       "      <td>-51.730778</td>\n",
       "      <td>-50.248451</td>\n",
       "      <td>-50.493584</td>\n",
       "      <td>-50.990429</td>\n",
       "      <td>-52.608692</td>\n",
       "      <td>-53.974918</td>\n",
       "      <td>-56.359200</td>\n",
       "    </tr>\n",
       "    <tr>\n",
       "      <th>...</th>\n",
       "      <td>...</td>\n",
       "      <td>...</td>\n",
       "      <td>...</td>\n",
       "      <td>...</td>\n",
       "      <td>...</td>\n",
       "      <td>...</td>\n",
       "      <td>...</td>\n",
       "      <td>...</td>\n",
       "      <td>...</td>\n",
       "      <td>...</td>\n",
       "      <td>...</td>\n",
       "      <td>...</td>\n",
       "      <td>...</td>\n",
       "      <td>...</td>\n",
       "      <td>...</td>\n",
       "      <td>...</td>\n",
       "      <td>...</td>\n",
       "      <td>...</td>\n",
       "      <td>...</td>\n",
       "      <td>...</td>\n",
       "      <td>...</td>\n",
       "    </tr>\n",
       "    <tr>\n",
       "      <th>-20.767410</th>\n",
       "      <td>-3.455772</td>\n",
       "      <td>-3.891911</td>\n",
       "      <td>-4.369183</td>\n",
       "      <td>-4.740025</td>\n",
       "      <td>-5.290461</td>\n",
       "      <td>-5.720578</td>\n",
       "      <td>-6.081773</td>\n",
       "      <td>-6.479337</td>\n",
       "      <td>-6.875156</td>\n",
       "      <td>-7.272595</td>\n",
       "      <td>...</td>\n",
       "      <td>-52.924416</td>\n",
       "      <td>-52.230263</td>\n",
       "      <td>-52.118336</td>\n",
       "      <td>-51.497890</td>\n",
       "      <td>-50.014027</td>\n",
       "      <td>-50.211666</td>\n",
       "      <td>-50.664791</td>\n",
       "      <td>-52.228664</td>\n",
       "      <td>-53.690296</td>\n",
       "      <td>-56.110279</td>\n",
       "    </tr>\n",
       "    <tr>\n",
       "      <th>-15.664302</th>\n",
       "      <td>-3.455751</td>\n",
       "      <td>-3.891759</td>\n",
       "      <td>-4.369158</td>\n",
       "      <td>-4.739922</td>\n",
       "      <td>-5.290378</td>\n",
       "      <td>-5.720459</td>\n",
       "      <td>-6.081545</td>\n",
       "      <td>-6.479172</td>\n",
       "      <td>-6.874980</td>\n",
       "      <td>-7.272387</td>\n",
       "      <td>...</td>\n",
       "      <td>-52.930389</td>\n",
       "      <td>-52.231163</td>\n",
       "      <td>-52.106075</td>\n",
       "      <td>-51.480610</td>\n",
       "      <td>-50.000847</td>\n",
       "      <td>-50.203850</td>\n",
       "      <td>-50.656559</td>\n",
       "      <td>-52.251286</td>\n",
       "      <td>-53.704185</td>\n",
       "      <td>-56.120625</td>\n",
       "    </tr>\n",
       "    <tr>\n",
       "      <th>-10.753756</th>\n",
       "      <td>-3.455735</td>\n",
       "      <td>-3.891725</td>\n",
       "      <td>-4.369071</td>\n",
       "      <td>-4.739759</td>\n",
       "      <td>-5.290292</td>\n",
       "      <td>-5.720232</td>\n",
       "      <td>-6.081302</td>\n",
       "      <td>-6.478823</td>\n",
       "      <td>-6.874688</td>\n",
       "      <td>-7.272037</td>\n",
       "      <td>...</td>\n",
       "      <td>-52.931137</td>\n",
       "      <td>-52.232327</td>\n",
       "      <td>-52.114071</td>\n",
       "      <td>-51.487392</td>\n",
       "      <td>-49.992344</td>\n",
       "      <td>-50.205788</td>\n",
       "      <td>-50.649170</td>\n",
       "      <td>-52.286968</td>\n",
       "      <td>-53.678280</td>\n",
       "      <td>-56.144836</td>\n",
       "    </tr>\n",
       "    <tr>\n",
       "      <th>-4.881981</th>\n",
       "      <td>-3.455693</td>\n",
       "      <td>-3.891679</td>\n",
       "      <td>-4.369014</td>\n",
       "      <td>-4.739605</td>\n",
       "      <td>-5.290129</td>\n",
       "      <td>-5.719976</td>\n",
       "      <td>-6.081075</td>\n",
       "      <td>-6.478495</td>\n",
       "      <td>-6.874412</td>\n",
       "      <td>-7.271661</td>\n",
       "      <td>...</td>\n",
       "      <td>-52.928841</td>\n",
       "      <td>-52.235886</td>\n",
       "      <td>-52.111420</td>\n",
       "      <td>-51.513626</td>\n",
       "      <td>-49.997574</td>\n",
       "      <td>-50.198959</td>\n",
       "      <td>-50.652218</td>\n",
       "      <td>-52.283146</td>\n",
       "      <td>-53.667065</td>\n",
       "      <td>-56.161606</td>\n",
       "    </tr>\n",
       "    <tr>\n",
       "      <th>-0.129222</th>\n",
       "      <td>-3.455623</td>\n",
       "      <td>-3.891601</td>\n",
       "      <td>-4.368774</td>\n",
       "      <td>-4.739479</td>\n",
       "      <td>-5.289879</td>\n",
       "      <td>-5.719784</td>\n",
       "      <td>-6.080827</td>\n",
       "      <td>-6.478145</td>\n",
       "      <td>-6.874069</td>\n",
       "      <td>-7.271384</td>\n",
       "      <td>...</td>\n",
       "      <td>-52.928852</td>\n",
       "      <td>-52.232700</td>\n",
       "      <td>-52.112415</td>\n",
       "      <td>-51.518784</td>\n",
       "      <td>-49.986504</td>\n",
       "      <td>-50.220058</td>\n",
       "      <td>-50.650604</td>\n",
       "      <td>-52.291103</td>\n",
       "      <td>-53.661987</td>\n",
       "      <td>-56.168293</td>\n",
       "    </tr>\n",
       "  </tbody>\n",
       "</table>\n",
       "<p>2870 rows × 157 columns</p>\n",
       "</div>"
      ],
      "text/plain": [
       "               +1.00000000000E+009  +1.25000000000E+009  +1.50000000000E+009  \\\n",
       "H                                                                              \n",
       "-15000.055664            -3.381689            -3.807956            -4.274226   \n",
       "-15000.034180            -3.381763            -3.807988            -4.274276   \n",
       "-15000.034180            -3.381674            -3.807832            -4.274251   \n",
       "-15000.034180            -3.381737            -3.807824            -4.274283   \n",
       "-15000.011719            -3.381753            -3.807987            -4.274257   \n",
       "...                            ...                  ...                  ...   \n",
       "-20.767410               -3.455772            -3.891911            -4.369183   \n",
       "-15.664302               -3.455751            -3.891759            -4.369158   \n",
       "-10.753756               -3.455735            -3.891725            -4.369071   \n",
       "-4.881981                -3.455693            -3.891679            -4.369014   \n",
       "-0.129222                -3.455623            -3.891601            -4.368774   \n",
       "\n",
       "               +1.75000000000E+009  +2.00000000000E+009  +2.25000000000E+009  \\\n",
       "H                                                                              \n",
       "-15000.055664            -4.632648            -5.175172            -5.593778   \n",
       "-15000.034180            -4.632652            -5.175166            -5.593794   \n",
       "-15000.034180            -4.632551            -5.175001            -5.593697   \n",
       "-15000.034180            -4.632554            -5.175028            -5.593746   \n",
       "-15000.011719            -4.632646            -5.175115            -5.593708   \n",
       "...                            ...                  ...                  ...   \n",
       "-20.767410               -4.740025            -5.290461            -5.720578   \n",
       "-15.664302               -4.739922            -5.290378            -5.720459   \n",
       "-10.753756               -4.739759            -5.290292            -5.720232   \n",
       "-4.881981                -4.739605            -5.290129            -5.719976   \n",
       "-0.129222                -4.739479            -5.289879            -5.719784   \n",
       "\n",
       "               +2.50000000000E+009  +2.75000000000E+009  +3.00000000000E+009  \\\n",
       "H                                                                              \n",
       "-15000.055664            -5.945998            -6.336533            -6.726492   \n",
       "-15000.034180            -5.945969            -6.336482            -6.726480   \n",
       "-15000.034180            -5.946090            -6.336463            -6.726504   \n",
       "-15000.034180            -5.946129            -6.336504            -6.726482   \n",
       "-15000.011719            -5.946013            -6.336473            -6.726509   \n",
       "...                            ...                  ...                  ...   \n",
       "-20.767410               -6.081773            -6.479337            -6.875156   \n",
       "-15.664302               -6.081545            -6.479172            -6.874980   \n",
       "-10.753756               -6.081302            -6.478823            -6.874688   \n",
       "-4.881981                -6.081075            -6.478495            -6.874412   \n",
       "-0.129222                -6.080827            -6.478145            -6.874069   \n",
       "\n",
       "               +3.25000000000E+009  ...  +3.77500000000E+010  \\\n",
       "H                                   ...                        \n",
       "-15000.055664            -7.124466  ...           -53.114609   \n",
       "-15000.034180            -7.124460  ...           -53.120014   \n",
       "-15000.034180            -7.124444  ...           -53.117935   \n",
       "-15000.034180            -7.124418  ...           -53.104580   \n",
       "-15000.011719            -7.124485  ...           -53.126690   \n",
       "...                            ...  ...                  ...   \n",
       "-20.767410               -7.272595  ...           -52.924416   \n",
       "-15.664302               -7.272387  ...           -52.930389   \n",
       "-10.753756               -7.272037  ...           -52.931137   \n",
       "-4.881981                -7.271661  ...           -52.928841   \n",
       "-0.129222                -7.271384  ...           -52.928852   \n",
       "\n",
       "               +3.80000000000E+010  +3.82500000000E+010  +3.85000000000E+010  \\\n",
       "H                                                                              \n",
       "-15000.055664           -52.499779           -52.311573           -51.734653   \n",
       "-15000.034180           -52.508942           -52.332558           -51.743347   \n",
       "-15000.034180           -52.500648           -52.348171           -51.737553   \n",
       "-15000.034180           -52.513275           -52.344406           -51.750465   \n",
       "-15000.011719           -52.500172           -52.342247           -51.730778   \n",
       "...                            ...                  ...                  ...   \n",
       "-20.767410              -52.230263           -52.118336           -51.497890   \n",
       "-15.664302              -52.231163           -52.106075           -51.480610   \n",
       "-10.753756              -52.232327           -52.114071           -51.487392   \n",
       "-4.881981               -52.235886           -52.111420           -51.513626   \n",
       "-0.129222               -52.232700           -52.112415           -51.518784   \n",
       "\n",
       "               +3.87500000000E+010  +3.90000000000E+010  +3.92500000000E+010  \\\n",
       "H                                                                              \n",
       "-15000.055664           -50.254147           -50.495087           -50.963806   \n",
       "-15000.034180           -50.253876           -50.487282           -50.973949   \n",
       "-15000.034180           -50.249184           -50.505722           -50.976566   \n",
       "-15000.034180           -50.246021           -50.494392           -50.979519   \n",
       "-15000.011719           -50.248451           -50.493584           -50.990429   \n",
       "...                            ...                  ...                  ...   \n",
       "-20.767410              -50.014027           -50.211666           -50.664791   \n",
       "-15.664302              -50.000847           -50.203850           -50.656559   \n",
       "-10.753756              -49.992344           -50.205788           -50.649170   \n",
       "-4.881981               -49.997574           -50.198959           -50.652218   \n",
       "-0.129222               -49.986504           -50.220058           -50.650604   \n",
       "\n",
       "               +3.95000000000E+010  +3.97500000000E+010  +4.00000000000E+010  \n",
       "H                                                                             \n",
       "-15000.055664           -52.595760           -53.988907           -56.357117  \n",
       "-15000.034180           -52.622540           -53.993801           -56.334862  \n",
       "-15000.034180           -52.614880           -53.980991           -56.375523  \n",
       "-15000.034180           -52.610352           -53.983028           -56.375496  \n",
       "-15000.011719           -52.608692           -53.974918           -56.359200  \n",
       "...                            ...                  ...                  ...  \n",
       "-20.767410              -52.228664           -53.690296           -56.110279  \n",
       "-15.664302              -52.251286           -53.704185           -56.120625  \n",
       "-10.753756              -52.286968           -53.678280           -56.144836  \n",
       "-4.881981               -52.283146           -53.667065           -56.161606  \n",
       "-0.129222               -52.291103           -53.661987           -56.168293  \n",
       "\n",
       "[2870 rows x 157 columns]"
      ]
     },
     "execution_count": 16,
     "metadata": {},
     "output_type": "execute_result"
    }
   ],
   "source": [
    "data\n"
   ]
  },
  {
   "cell_type": "code",
   "execution_count": 62,
   "metadata": {},
   "outputs": [],
   "source": [
    "sqa.fmr_mesh_dataframe(data)"
   ]
  },
  {
   "cell_type": "code",
   "execution_count": 35,
   "metadata": {},
   "outputs": [],
   "source": [
    "\n",
    "n=0\n",
    "result=[]\n",
    "#Here is to choose the range of Frequency\n",
    "#===============================================================\n",
    "fre_range=[25E9,25.5E9]\n",
    "columns=data.columns[:]\n",
    "lowest_fre=float(columns[0])\n",
    "delta_fre=float(columns[1])-float(columns[0])\n",
    "if fre_range[0]<lowest_fre:\n",
    "    fre_range[0]=lowest_fre\n",
    "low_index=int((fre_range[0]-lowest_fre)/delta_fre)\n",
    "top_index = int((fre_range[-1]-lowest_fre)/delta_fre)+1\n",
    "choose_fre=columns[low_index:top_index]\n",
    "#================================================================\n",
    "for i in choose_fre:\n",
    "    frequency=float(i[1:])\n",
    "    figure_path=folder+'\\\\'+filename.replace('.txt','-freq'+str(float(i[1:])/1e9)+'GHz with_substract.png')\n",
    "    a=sqa.fmr_select_frequency(data,frequency)\n",
    "    a_new=a.values\n",
    "    # a_new=sqa.substrate_background_from_one_curve(a.index.values,a.values)\n",
    "    plt.title(f'The frequency now is {frequency/1e9} GHz')\n",
    "    fitting_para=sqa.fit_one_curve(a.index.values,a_new)\n",
    "    #print parameters\n",
    "    print([n,0],frequency)\n",
    "    n=n+1\n",
    "    if sum(abs(fitting_para))!=0:\n",
    "        sqa.origin_get_array(table_lineshape_fit,np.array(frequency,ndmin=2),position=[n,0],longname_unit_comment=[['frequency(Hz)','','']])\n",
    "        sqa.origin_get_array(table_lineshape_fit,np.array(fitting_para,ndmin=2),position=[n,1],longname_unit_comment=longname_unit_comment1)\n",
    "        result.append([frequency]+fitting_para.tolist())"
   ]
  },
  {
   "cell_type": "markdown",
   "metadata": {},
   "source": [
    "fitting_para.tolist()?\n",
    "\n",
    "拟合Damping"
   ]
  },
  {
   "cell_type": "code",
   "execution_count": null,
   "metadata": {
    "collapsed": true
   },
   "outputs": [],
   "source": [
    "a_new=sqa.substrate_background_from_one_curve(a.index.values,a.values)"
   ]
  },
  {
   "cell_type": "code",
   "execution_count": 4,
   "metadata": {
    "collapsed": true
   },
   "outputs": [
    {
     "name": "stdout",
     "output_type": "stream",
     "text": [
      "[]\n"
     ]
    }
   ],
   "source": [
    "print(result)"
   ]
  },
  {
   "cell_type": "code",
   "execution_count": 15,
   "metadata": {
    "collapsed": false,
    "scrolled": true
   },
   "outputs": [],
   "source": [
    "results=pd.DataFrame(result)\n",
    "data.to_csv('E:\\\\project\\\\S-F-S\\\\Nb-Py-Nb\\\\FMR\\\\new 2nd\\\\S5099-SNFNS\\\\5ttk.txt')"
   ]
  },
  {
   "cell_type": "code",
   "execution_count": 15,
   "metadata": {
    "collapsed": true
   },
   "outputs": [
    {
     "name": "stdout",
     "output_type": "stream",
     "text": [
      "Gilbert Damping :  0.0815569490153\n",
      "Gilbert Damping Confidence Interval(0.05):  0.00675994344398\n",
      "Gilbert Damping :  0.046348435937\n",
      "Gilbert Damping Confidence Interval(0.05):  0.356816775128\n",
      "Gilbert Damping :  0.0827311980779\n",
      "Gilbert Damping Confidence Interval(0.05):  0.0071631898888\n",
      "Gilbert Damping :  0.0799501628792\n",
      "Gilbert Damping Confidence Interval(0.05):  0.00672701833446\n",
      "Gilbert Damping :  0.0799501628792\n",
      "Gilbert Damping Confidence Interval(0.05):  0.00672701833446\n"
     ]
    }
   ],
   "source": [
    "#damping fit\n",
    "gamma=1.76*10**10\n",
    "result=np.array(result)\n",
    "plt.plot(result[:,0],result[:,3],'.')\n",
    "plt.draw()\n",
    "plt.pause(0.1)\n",
    "\n",
    "while True:\n",
    "    ginput=plt.ginput(0)\n",
    "    if len(ginput)==0:\n",
    "        break\n",
    "        print('ok')\n",
    "    if len(ginput)==2:\n",
    "        plt.clf()\n",
    "        temp=result[:,[0,3]]\n",
    "        temp=temp[temp[:,0]>=ginput[0][0]]\n",
    "        temp=temp[temp[:,0]<=ginput[1][0]]\n",
    "        mod = sm.OLS(temp[:,1], sm.add_constant(temp[:,0]))\n",
    "        res = mod.fit()\n",
    "        linear_fit_result=np.array([res.params[1],res.params[0]])\n",
    "        \n",
    "        \n",
    "        confidence_interval=res.conf_int(0.05)[1]\n",
    "        plt.plot(result[:,0],result[:,3],'.')\n",
    "        fitx=np.linspace(temp[0,0],temp[-1,0],100)\n",
    "        fity=np.polyval(linear_fit_result,fitx)\n",
    "        plt.plot(fitx,fity,'.')\n",
    "        plt.draw()\n",
    "        plt.pause(0.1)\n",
    "        damping=linear_fit_result[0]*gamma/(2*3.1415926)/1000\n",
    "        damping_interval=confidence_interval*gamma/(2*3.1415926)/1000\n",
    "        print('Gilbert Damping : ', damping)\n",
    "        print('Gilbert Damping Confidence Interval(0.05): ', damping_interval[1]-damping_interval[0]) \n",
    "\n",
    "table_damping_fit=sqa.origin_creat_table('Damping_300K')\n",
    "sqa.origin_get_array(\\\n",
    "                    table_damping_fit,temp,position=[0,0],\\\n",
    "                    longname_unit_comment=[['frequency','(Hz)',''],['Half-Linewidth','Oe','']])\n",
    "sqa.origin_get_array(\\\n",
    "                     table_damping_fit,np.array([fitx,fity]).T,position=[0,2],\\\n",
    "                     longname_unit_comment=[['fit_freq','(Hz)',''],['fit_LW','Oe','']])\n"
   ]
  },
  {
   "cell_type": "markdown",
   "metadata": {},
   "source": [
    "拟合Kittel"
   ]
  },
  {
   "cell_type": "code",
   "execution_count": 7,
   "metadata": {
    "collapsed": false
   },
   "outputs": [],
   "source": [
    "?res.conf_int(0.05)"
   ]
  },
  {
   "cell_type": "code",
   "execution_count": 10,
   "metadata": {
    "collapsed": true
   },
   "outputs": [
    {
     "ename": "TypeError",
     "evalue": "list indices must be integers, not tuple",
     "output_type": "error",
     "traceback": [
      "\u001b[1;31m---------------------------------------------------------------------------\u001b[0m",
      "\u001b[1;31mTypeError\u001b[0m                                 Traceback (most recent call last)",
      "\u001b[1;32m<ipython-input-10-19e97c335712>\u001b[0m in \u001b[0;36m<module>\u001b[1;34m()\u001b[0m\n\u001b[0;32m      1\u001b[0m \u001b[1;31m#Kittel fit\u001b[0m\u001b[1;33m\u001b[0m\u001b[1;33m\u001b[0m\u001b[0m\n\u001b[1;32m----> 2\u001b[1;33m \u001b[0mfrequency_array\u001b[0m\u001b[1;33m=\u001b[0m\u001b[0mresult\u001b[0m\u001b[1;33m[\u001b[0m\u001b[1;33m:\u001b[0m\u001b[1;33m,\u001b[0m\u001b[1;36m0\u001b[0m\u001b[1;33m]\u001b[0m\u001b[1;33m\u001b[0m\u001b[0m\n\u001b[0m\u001b[0;32m      3\u001b[0m \u001b[0mresonance_field_array\u001b[0m\u001b[1;33m=\u001b[0m\u001b[0mresult\u001b[0m\u001b[1;33m[\u001b[0m\u001b[1;33m:\u001b[0m\u001b[1;33m,\u001b[0m\u001b[1;36m2\u001b[0m\u001b[1;33m]\u001b[0m\u001b[1;33m\u001b[0m\u001b[0m\n\u001b[0;32m      4\u001b[0m \u001b[1;33m\u001b[0m\u001b[0m\n\u001b[0;32m      5\u001b[0m \u001b[0mfrequency_trans_array\u001b[0m\u001b[1;33m=\u001b[0m\u001b[1;33m(\u001b[0m\u001b[1;36m2\u001b[0m\u001b[1;33m*\u001b[0m\u001b[1;36m3.1415\u001b[0m\u001b[1;33m*\u001b[0m\u001b[0mfrequency_array\u001b[0m\u001b[1;33m/\u001b[0m\u001b[1;33m(\u001b[0m\u001b[1;36m1.76\u001b[0m\u001b[1;33m*\u001b[0m\u001b[1;36m10\u001b[0m\u001b[1;33m**\u001b[0m\u001b[1;36m7\u001b[0m\u001b[1;33m)\u001b[0m\u001b[1;33m)\u001b[0m\u001b[1;33m**\u001b[0m\u001b[1;36m2\u001b[0m\u001b[1;33m\u001b[0m\u001b[0m\n",
      "\u001b[1;31mTypeError\u001b[0m: list indices must be integers, not tuple"
     ]
    }
   ],
   "source": [
    "#Kittel fit\n",
    "frequency_array=result[:,0]\n",
    "resonance_field_array=result[:,2]\n",
    "\n",
    "frequency_trans_array=(2*3.1415*frequency_array/(1.76*10**7))**2\n",
    "fit_para=np.polyfit(resonance_field_array,frequency_trans_array,2)\n",
    "pi4Meff=fit_para[1]\n",
    "print '4*Pi*Meff:',pi4Meff,'Gs'\n",
    "\n",
    "#plot\n",
    "\n",
    "plt.figure()\n",
    "plt.plot(resonance_field_array,frequency_array,'o',linewidth=20)\n",
    "fit_meff_x=np.linspace(0,resonance_field_array[-1],100)\n",
    "fit_meff_y=(fit_meff_x**2*fit_para[0]+fit_meff_x*fit_para[1]+fit_para[2])**0.5*1.76*1e7/(2*3.1415)\n",
    "plt.plot(fit_meff_x,fit_meff_y,'.')\n",
    "\n",
    "#write into origin\n",
    "table_kittel_fit=sqa.origin_creat_table('Kittel_300K')\n",
    "sqa.origin_get_array(\\\n",
    "                    table_kittel_fit,np.array([resonance_field_array,frequency_array]).T\\\n",
    "                    ,position=[0,0],longname_unit_comment=[['H_res','(Oe)',''],['f_res','(Hz)','']])\n",
    "sqa.origin_get_array(\\\n",
    "                     table_kittel_fit,np.array([fit_meff_x,fit_meff_y]).T,position=[0,2],\\\n",
    "                     longname_unit_comment=[['H_fit','(Oe)',''],['fit_f','Hz','']])"
   ]
  },
  {
   "cell_type": "markdown",
   "metadata": {
    "collapsed": false
   },
   "source": [
    "\n",
    "\n",
    "\n",
    "\n",
    "#Non-linear linewidth vs Frequency"
   ]
  },
  {
   "cell_type": "code",
   "execution_count": 104,
   "metadata": {
    "collapsed": true
   },
   "outputs": [
    {
     "name": "stdout",
     "output_type": "stream",
     "text": [
      "('fit_res', array([  3.02845636e-02,   8.65483095e+01,   1.50093886e+02,\n",
      "         1.85730489e-11]))\n"
     ]
    }
   ],
   "source": [
    "from scipy.optimize import least_squares\n",
    "gamma=1.76*10**10\n",
    "def fit_guassion_robust(fitx,fity,x0=False):\n",
    "    '''\n",
    "    p[0] damping\n",
    "    p[1] H_0\n",
    "    p[2] A\n",
    "    p[3] tau\n",
    "    '''\n",
    "    def fun_fit(p,x,y):\n",
    "        return fun_cal_y(p,x)-y \n",
    "    def fun_cal_y(p,x):\n",
    "        return 2*3.1415926*p[0]*x*1000/gamma+p[1]+p[2]*(2*3.1415926*x*p[3])/(1+(2*3.1415926*x*p[3])**2)\n",
    "     \n",
    "    if not x0: \n",
    "        x0=[0.05,0,100,1e-13] \n",
    "    else: \n",
    "        x0=x0\n",
    "        \n",
    "    res_robust=least_squares(fun_fit,x0,args=(fitx,fity),\\\n",
    "                             bounds=([0,-np.inf,-np.inf,1e-19],[np.inf,np.inf,np.inf,3.9e-11]))\n",
    "    fitted_y=fun_cal_y(res_robust.x,fitx)\n",
    "    return res_robust.x,fitted_y\n",
    "\n",
    "#damping fit\n",
    "gamma=1.76*10**10\n",
    "#lw_freq=np.array(result)[:,[0,3]]\n",
    "lw_freq=np.loadtxt('C:\\\\Users\\\\user\\\\Desktop\\\\2-15nm\\\\HALF\\\\4K.txt')\n",
    "plt.plot(lw_freq[:,0],lw_freq[:,1],'.')\n",
    "plt.draw()\n",
    "plt.pause(0.1)\n",
    "\n",
    "while True:\n",
    "    ginput=plt.ginput(0)\n",
    "    if len(ginput)==0:\n",
    "        break\n",
    "        #print 'ok'\n",
    "    if len(ginput)==2:\n",
    "        plt.clf()\n",
    "        temp=lw_freq\n",
    "        temp=temp[temp[:,0]>=ginput[0][0]]\n",
    "        temp=temp[temp[:,0]<=ginput[1][0]]\n",
    "        \n",
    "        fit_res,fity=fit_guassion_robust(temp[:,0], temp[:,1])\n",
    "        print('fit_res',fit_res)\n",
    "        print('temp',temp)\n",
    "        print('fity',fity)\n",
    "        \n",
    "        \n",
    "        plt.plot(lw_freq[:,0],lw_freq[:,1],'.')\n",
    "        plt.plot(temp[:,0],fity,'.')\n",
    "        plt.draw()\n",
    "        plt.pause(0.1)\n",
    "        \n",
    "        "
   ]
  },
  {
   "cell_type": "code",
   "execution_count": 82,
   "metadata": {
    "collapsed": false
   },
   "outputs": [
    {
     "data": {
      "text/plain": [
       "[<matplotlib.lines.Line2D at 0xcc1e668>]"
      ]
     },
     "execution_count": 82,
     "metadata": {},
     "output_type": "execute_result"
    }
   ],
   "source": [
    "def fun_cal_y(p,x):\n",
    "    return 2*3.1415926*p[0]*x*1000/gamma+p[1]+p[2]*(2*3.1415926*x*p[3])/(1+(2*3.1415926*x*p[3])**2)\n",
    "x=np.linspace(0,1e11,1000)\n",
    "p=fit_res\n",
    "plt.plot(x,fun_cal_y(p,x))"
   ]
  },
  {
   "cell_type": "code",
   "execution_count": 83,
   "metadata": {
    "collapsed": true
   },
   "outputs": [],
   "source": [
    "#output the two-magnon fitting results\n",
    "\n",
    "pd.DataFrame(fun_cal_y(p,x),index=x).to_csv('C:\\\\Users\\\\user\\\\Desktop\\\\2-15nm\\\\HALF\\\\6-2.txt')"
   ]
  },
  {
   "cell_type": "code",
   "execution_count": 37,
   "metadata": {
    "collapsed": false
   },
   "outputs": [
    {
     "data": {
      "text/plain": [
       "[<matplotlib.lines.Line2D at 0xd033ac8>]"
      ]
     },
     "execution_count": 37,
     "metadata": {},
     "output_type": "execute_result"
    }
   ],
   "source": [
    "p_5=np.array([  0.02765,-27.74951,502.24709,1.44349E-11])\n",
    "p_10=np.array([ 0.01827,3.14391,428.89911,1.63975E-11])\n",
    "p_20=np.array([ 0.00826,45.61887,453.41117,1.36642E-11])\n",
    "p_30=np.array([ 0.00579,-10.81454,596.66453,1.44787E-11])\n",
    "\n",
    "x=np.linspace(0,1e11,100)\n",
    "\n",
    "plt.plot(x,fun_cal_y(p_5,x))\n",
    "plt.plot(x,fun_cal_y(p_10,x))\n",
    "plt.plot(x,fun_cal_y(p_20,x))\n",
    "plt.plot(x,fun_cal_y(p_30,x))\n"
   ]
  },
  {
   "cell_type": "code",
   "execution_count": 57,
   "metadata": {
    "collapsed": true
   },
   "outputs": [
    {
     "ename": "TypeError",
     "evalue": "data type not understood",
     "output_type": "error",
     "traceback": [
      "\u001b[1;31m---------------------------------------------------------------------------\u001b[0m",
      "\u001b[1;31mTypeError\u001b[0m                                 Traceback (most recent call last)",
      "\u001b[1;32m<ipython-input-57-7cebcee4b770>\u001b[0m in \u001b[0;36m<module>\u001b[1;34m()\u001b[0m\n\u001b[1;32m----> 1\u001b[1;33m \u001b[0mnp\u001b[0m\u001b[1;33m.\u001b[0m\u001b[0marray\u001b[0m\u001b[1;33m(\u001b[0m\u001b[1;33m[\u001b[0m\u001b[0mx\u001b[0m\u001b[1;33m]\u001b[0m\u001b[1;33m,\u001b[0m\u001b[1;33m[\u001b[0m\u001b[0mfun_cal_y\u001b[0m\u001b[1;33m(\u001b[0m\u001b[0mp\u001b[0m\u001b[1;33m,\u001b[0m\u001b[0mx\u001b[0m\u001b[1;33m)\u001b[0m\u001b[1;33m]\u001b[0m\u001b[1;33m)\u001b[0m\u001b[1;33m\u001b[0m\u001b[0m\n\u001b[0m",
      "\u001b[1;31mTypeError\u001b[0m: data type not understood"
     ]
    }
   ],
   "source": [
    " res_robust=least_squares(fun_fit,x0,args=(fitx,fity),diff_step=np.array([1e-5,1e-5,1e-5,1e-16]),\\\n",
    "                             x_scale=np.array([1,1,1,1e-10]),f_scale=100,loss='cauchy',\\\n",
    "                             bounds=([0,-np.inf,-np.inf,0],[np.inf,np.inf,np.inf,3e-10]))"
   ]
  },
  {
   "cell_type": "code",
   "execution_count": null,
   "metadata": {
    "collapsed": false
   },
   "outputs": [],
   "source": [
    "# NEWONE TO FITTING --OPTIIMAL BY QI"
   ]
  },
  {
   "cell_type": "code",
   "execution_count": 230,
   "metadata": {
    "collapsed": false,
    "scrolled": true
   },
   "outputs": [
    {
     "name": "stdout",
     "output_type": "stream",
     "text": [
      "('fit_res', array([  2.26528219e-02,  -1.51165515e+00,   4.50222995e+02,\n",
      "         1.76088890e-11]))\n"
     ]
    }
   ],
   "source": [
    "\n",
    "from scipy.optimize import least_squares\n",
    "gamma=1.76*10**10\n",
    "def fit_guassion_robust(fitx,fity,x0=False):\n",
    "    '''\n",
    "    p[0] damping\n",
    "    p[1] H_0\n",
    "    p[2] A\n",
    "    p[3] tau\n",
    "    '''\n",
    "    def fun_fit(p,x,y):\n",
    "        return fun_cal_y(p,x)-y \n",
    "    def fun_cal_y(p,x):\n",
    "        return 2*3.1415926*p[0]*x*1000/gamma+p[1]+p[2]*(2*3.1415926*x*p[3])/(1+(2*3.1415926*x*p[3])**2)\n",
    "     \n",
    "    if not x0: \n",
    "        x0=[0.05,0,100,1e-13] \n",
    "    else: \n",
    "        x0=x0\n",
    "        \n",
    "    res_robust=least_squares(fun_fit,x0,args=(fitx,fity),diff_step=np.array([1e-5,1e-5,1e-5,1e-16]),\\\n",
    "                             x_scale=np.array([1,1,1,1e-10]),f_scale=100,loss='cauchy',\\\n",
    "                             bounds=([0,-np.inf,-np.inf,0],[np.inf,np.inf,np.inf,1e-10]))\n",
    "    fitted_y=fun_cal_y(res_robust.x,fitx)\n",
    "    return res_robust.x,fitted_y\n",
    "\n",
    "#damping fit\n",
    "gamma=1.76*10**10\n",
    "#lw_freq=np.array(result)[:,[0,3]]\n",
    "lw_freq=np.loadtxt('C:\\\\Users\\\\user\\\\Desktop\\\\2_20\\\\FINAL\\\\11K.txt')\n",
    "plt.plot(lw_freq[:,0],lw_freq[:,1],'.')\n",
    "plt.draw()\n",
    "plt.pause(0.1)\n",
    "\n",
    "while True:\n",
    "    ginput=plt.ginput(0)\n",
    "    if len(ginput)==0:\n",
    "        break\n",
    "        #print 'ok'\n",
    "    if len(ginput)==2:\n",
    "        plt.clf()\n",
    "        temp=lw_freq\n",
    "        temp=temp[temp[:,0]>=ginput[0][0]]\n",
    "        temp=temp[temp[:,0]<=ginput[1][0]]\n",
    "        #print('temp',temp)\n",
    "        fit_res,fity=fit_guassion_robust(temp[:,0], temp[:,1])\n",
    "        print('fit_res',fit_res)\n",
    "        #print('fity',fity)\n",
    "        \n",
    "        plt.plot(lw_freq[:,0],lw_freq[:,1],'.')\n",
    "        plt.plot(temp[:,0],fity,'.')\n",
    "        plt.draw()\n",
    "        plt.pause(0.1)\n",
    "        "
   ]
  },
  {
   "cell_type": "code",
   "execution_count": 193,
   "metadata": {
    "collapsed": false
   },
   "outputs": [
    {
     "data": {
      "text/plain": [
       "[<matplotlib.lines.Line2D at 0x16159a20>]"
      ]
     },
     "execution_count": 193,
     "metadata": {},
     "output_type": "execute_result"
    }
   ],
   "source": [
    "def fun_cal_y(p,x):\n",
    "    return 2*3.1415926*p[0]*x*1000/gamma+p[1]+p[2]*(2*3.1415926*x*p[3])/(1+(2*3.1415926*x*p[3])**2)\n",
    "x=np.linspace(0,1e11,1000)\n",
    "p=fit_res\n",
    "plt.plot(x,fun_cal_y(p,x))"
   ]
  },
  {
   "cell_type": "code",
   "execution_count": 194,
   "metadata": {
    "collapsed": false
   },
   "outputs": [],
   "source": [
    "#output the two-magnon fitting results\n",
    "\n",
    "pd.DataFrame(fun_cal_y(p,x),index=x).to_csv('C:\\\\Users\\\\user\\\\Desktop\\\\2_20\\\\RESULTS\\\\11K.txt')"
   ]
  },
  {
   "cell_type": "code",
   "execution_count": null,
   "metadata": {
    "collapsed": false
   },
   "outputs": [],
   "source": []
  },
  {
   "cell_type": "code",
   "execution_count": null,
   "metadata": {
    "collapsed": false
   },
   "outputs": [],
   "source": []
  },
  {
   "cell_type": "code",
   "execution_count": null,
   "metadata": {
    "collapsed": true
   },
   "outputs": [],
   "source": []
  }
 ],
 "metadata": {
  "anaconda-cloud": {},
  "interpreter": {
   "hash": "06816fa7da650df86993391ac35fecbc152b06781485718d46ad9e602dfe79e1"
  },
  "kernelspec": {
   "display_name": "Python 3.9.6 64-bit",
   "language": "python",
   "name": "python3"
  },
  "language_info": {
   "codemirror_mode": {
    "name": "ipython",
    "version": 3
   },
   "file_extension": ".py",
   "mimetype": "text/x-python",
   "name": "python",
   "nbconvert_exporter": "python",
   "pygments_lexer": "ipython3",
   "version": "3.9.6"
  }
 },
 "nbformat": 4,
 "nbformat_minor": 2
}
