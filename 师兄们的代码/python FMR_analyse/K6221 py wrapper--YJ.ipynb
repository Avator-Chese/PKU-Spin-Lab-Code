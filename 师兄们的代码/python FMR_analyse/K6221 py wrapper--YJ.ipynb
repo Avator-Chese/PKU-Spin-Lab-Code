{
 "cells": [
  {
   "cell_type": "code",
   "execution_count": 35,
   "metadata": {
    "collapsed": false
   },
   "outputs": [
    {
     "data": {
      "text/plain": [
       "'\\nfor K6221, check page 155 of the manual\\n\\n'"
      ]
     },
     "execution_count": 35,
     "metadata": {},
     "output_type": "execute_result"
    }
   ],
   "source": [
    "import time\n",
    "import visa\n",
    "import matplotlib.pyplot as plt\n",
    "import numpy as np\n",
    "import math\n",
    "'''\n",
    "for K6221, check page 155 of the manual\n",
    "\n",
    "@author: Yuan Ji\n",
    "\n",
    "20190902\n",
    "\n",
    "'''"
   ]
  },
  {
   "cell_type": "code",
   "execution_count": 15,
   "metadata": {
    "collapsed": false
   },
   "outputs": [
    {
     "name": "stdout",
     "output_type": "stream",
     "text": [
      "GPIB0::1::INSTR\n"
     ]
    }
   ],
   "source": [
    "rm = visa.ResourceManager()\n",
    "addr = rm.list_resources()[0]\n",
    "print(addr)"
   ]
  },
  {
   "cell_type": "code",
   "execution_count": 33,
   "metadata": {
    "collapsed": false
   },
   "outputs": [
    {
     "data": {
      "text/plain": [
       "'KEITHLEY INSTRUMENTS INC.,MODEL 6221,4132300,D03  /700x \\n'"
      ]
     },
     "execution_count": 33,
     "metadata": {},
     "output_type": "execute_result"
    }
   ],
   "source": [
    "K6221 = rm.open_resource(addr)\n",
    "K6221.query('*IDN?')"
   ]
  },
  {
   "cell_type": "code",
   "execution_count": 43,
   "metadata": {
    "collapsed": true
   },
   "outputs": [],
   "source": [
    "def set_curr(I_set, step, delay):\n",
    "    #Set current with ramp\n",
    "    #I[uA], delay[s]\n",
    "    I_set = math.sqrt(2)*I_set/1e6\n",
    "    step = math.sqrt(2)*step/1e6\n",
    "\n",
    "    I = float(K6221.query(':sour:wave:ampl?'))\n",
    "\n",
    "    while(abs(I-I_set)>=1e-6):\n",
    "\n",
    "        if(I-I_set>=step):\n",
    "            I_next = I-step\n",
    "        if(I-I_set<=-step):\n",
    "            I_next = I+step\n",
    "        if(I-I_set>-step and I-I_set<step):\n",
    "            I_next = I_set\n",
    "        K6221.write(':sour:wave:ampl '+str(I_next))\n",
    "        time.sleep(delay)\n",
    "        I = float(K6221.query(':sour:wave:ampl?'))\n",
    "        #print(I)\n"
   ]
  },
  {
   "cell_type": "code",
   "execution_count": 31,
   "metadata": {
    "collapsed": false
   },
   "outputs": [
    {
     "name": "stdout",
     "output_type": "stream",
     "text": [
      "5.000000E-05\n",
      "\n"
     ]
    }
   ],
   "source": [
    "#query current amplitude\n",
    "set_curr(500, 50, 1)\n",
    "ampl = K6221.query(':sour:wave:ampl?')\n",
    "print(ampl)"
   ]
  },
  {
   "cell_type": "code",
   "execution_count": 9,
   "metadata": {
    "collapsed": false
   },
   "outputs": [
    {
     "name": "stdout",
     "output_type": "stream",
     "text": [
      "7.000000E+00\n",
      "\n"
     ]
    }
   ],
   "source": [
    "freq = K6221.query(':sour:wave:freq?')\n",
    "print(freq)"
   ]
  },
  {
   "cell_type": "code",
   "execution_count": 12,
   "metadata": {
    "collapsed": false
   },
   "outputs": [
    {
     "name": "stdout",
     "output_type": "stream",
     "text": [
      "0.000000E+00\n",
      "\n"
     ]
    }
   ],
   "source": [
    "offset = K6221.query(':sour:wave:offs?')\n",
    "print(offset)"
   ]
  },
  {
   "cell_type": "code",
   "execution_count": 13,
   "metadata": {
    "collapsed": false
   },
   "outputs": [
    {
     "name": "stdout",
     "output_type": "stream",
     "text": [
      "SIN\n",
      "\n"
     ]
    }
   ],
   "source": [
    "func = K6221.query(':sour:wave:func?')\n",
    "print(func)"
   ]
  },
  {
   "cell_type": "code",
   "execution_count": 26,
   "metadata": {
    "collapsed": false
   },
   "outputs": [
    {
     "data": {
      "text/plain": [
       "(24, <StatusCode.success: 0>)"
      ]
     },
     "execution_count": 26,
     "metadata": {},
     "output_type": "execute_result"
    }
   ],
   "source": [
    "phase  = 0          #0 to 360\n",
    "trigger_line = 1    #1 to 6\n",
    "enable = 1          #1 stands for [ON], 0 stands for [OFF]\n",
    "\n",
    "K6221.write(':sour:wave:pmar:lev '+str(phase))\n",
    "K6221.write(':sour:wave:pmar:olin '+str(trigger_line))\n",
    "K6221.write(':sour:wave:pmar:stat '+str(enable))"
   ]
  },
  {
   "cell_type": "code",
   "execution_count": 27,
   "metadata": {
    "collapsed": false
   },
   "outputs": [
    {
     "name": "stdout",
     "output_type": "stream",
     "text": [
      "0.000\n",
      " 1\n",
      " 1\n",
      "\n"
     ]
    }
   ],
   "source": [
    "lev = K6221.query(':sour:wave:pmar:lev?')\n",
    "olin = K6221.query(':sour:wave:pmar:olin?')\n",
    "status = K6221.query(':sour:wave:pmar:stat?')\n",
    "print(lev, olin, status)"
   ]
  },
  {
   "cell_type": "code",
   "execution_count": 29,
   "metadata": {
    "collapsed": false
   },
   "outputs": [
    {
     "name": "stdout",
     "output_type": "stream",
     "text": [
      "5e-05 0.0001\n"
     ]
    }
   ],
   "source": []
  },
  {
   "cell_type": "code",
   "execution_count": 44,
   "metadata": {
    "collapsed": false
   },
   "outputs": [
    {
     "data": {
      "text/plain": [
       "(17, <StatusCode.success: 0>)"
      ]
     },
     "execution_count": 44,
     "metadata": {},
     "output_type": "execute_result"
    }
   ],
   "source": [
    "#abort wave output\n",
    "K6221.write(':sour:wave:ampl 5')\n",
    "K6221.write(':sour:wave:abor')"
   ]
  },
  {
   "cell_type": "code",
   "execution_count": null,
   "metadata": {
    "collapsed": true
   },
   "outputs": [],
   "source": []
  }
 ],
 "metadata": {
  "anaconda-cloud": {},
  "kernelspec": {
   "display_name": "Python [Root]",
   "language": "python",
   "name": "Python [Root]"
  },
  "language_info": {
   "codemirror_mode": {
    "name": "ipython",
    "version": 2
   },
   "file_extension": ".py",
   "mimetype": "text/x-python",
   "name": "python",
   "nbconvert_exporter": "python",
   "pygments_lexer": "ipython2",
   "version": "2.7.11"
  }
 },
 "nbformat": 4,
 "nbformat_minor": 2
}
