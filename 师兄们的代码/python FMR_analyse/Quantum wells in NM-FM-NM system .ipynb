{
 "cells": [
  {
   "cell_type": "code",
   "execution_count": 1,
   "metadata": {
    "collapsed": true
   },
   "outputs": [],
   "source": [
    "# 2019.7.31\n",
    "# author: Yunyan Yao\n",
    "# here we would like to describe the infinite-deeep quantum-well(QW) via the wavefunction and the eigenvalue of energy\n"
   ]
  },
  {
   "cell_type": "code",
   "execution_count": 2,
   "metadata": {
    "collapsed": true
   },
   "outputs": [],
   "source": [
    "import numpy as np\n",
    "import matplotlib.pyplot as plt\n",
    "import pandas as pd\n",
    "\n",
    "%matplotlib qt"
   ]
  },
  {
   "cell_type": "code",
   "execution_count": 3,
   "metadata": {
    "collapsed": true
   },
   "outputs": [],
   "source": [
    "# plot the wavefunction\n",
    "# we give the x axis in real space\n",
    "x=np.arange(0,1,0.0001)   \n",
    "h_bar=1.0546*10**(-34)  # Planck constant\n",
    "m=9.10956*10**(-31)         # static mass of electron\n",
    "meV=1.60219*10**(-22)       # unit of energy\n",
    "# the wave function,\n",
    "\n",
    "def wavef(n,X,d=1):\n",
    "    '''\n",
    "    n energy level\n",
    "    x real space length\n",
    "    d the normalized thickness of QW\n",
    "    '''\n",
    "    return np.sqrt(2/d)*np.sin(n*X*np.pi/d)\n",
    "\n",
    "\n",
    "#new build a null figure\n",
    "fig=plt.figure()   \n",
    "\n",
    "ax1=fig.add_subplot(2,1,1)\n",
    "ax1.set_xlabel('thickness')\n",
    "ax1.set_ylabel('wavefunction')\n",
    "ax1.set_title('quantum wells state')\n",
    "\n",
    "ax2=fig.add_subplot(2,1,2)\n",
    "ax2.set_xlabel('thickness')\n",
    "ax2.set_ylabel('probability')\n",
    "\n",
    "\n",
    "for n in np.arange(5):\n",
    "    n=n+1\n",
    "    ax1.plot(x,wavef(n,x)+n,'-')\n",
    "    ax2.plot(x,np.square(wavef(n,x))+n,'.')\n",
    "\n",
    "plt.show()\n"
   ]
  },
  {
   "cell_type": "code",
   "execution_count": 4,
   "metadata": {
    "collapsed": false,
    "scrolled": true
   },
   "outputs": [],
   "source": [
    "#plot the energy as function of wavevector and thickness\n",
    "# %matplotlib qt\n",
    "\n",
    "x=np.arange(0,1,0.0001)   \n",
    "h_bar=1.0546*10**(-34)               # Planck constant\n",
    "m=9.1*10**(-31)                      # static mass of electron\n",
    "d=1*10**(-9)                         # fixed thickness\n",
    "meV=1.6*10**(-22)\n",
    "\n",
    "# the energy as a function of wavevector\n",
    "\n",
    "def energy(n,d):\n",
    "    k=n*np.pi/d                      # wavevector\n",
    "    return np.square(h_bar)*np.square(k)/(2*m*meV)\n",
    "\n",
    "#new build a null figure\n",
    "fig=plt.figure()   \n",
    "\n",
    "# fixed thickness of QW, vary the energy level\n",
    "ax3=fig.add_subplot(1,2,1)\n",
    "ax3.set_xlabel('wave vector(1/m)')\n",
    "ax3.set_ylabel('energy(meV)')\n",
    "ax3.set_title('fixed thickness')\n",
    "n=np.arange(10)\n",
    "k=n*np.pi/d    \n",
    "ax3.plot(k,energy(n,d),'-') \n",
    " \n",
    "#fixed energy level, vary the thickness of QW\n",
    "ax4=fig.add_subplot(1,2,2)\n",
    "ax4.set_xlabel('thickness(m)')\n",
    "ax4.set_ylabel('energy(emV)')\n",
    "ax4.set_title('fixed energy level')\n",
    "# set the range of thickness \n",
    "t=np.arange(1*d,10*d,0.01*d)\n",
    "\n",
    "for i in n:\n",
    "    i=i+1\n",
    "    ax4.plot(t,energy(i,t),'-',label='energy level:'+str(i))  # transfer i into string, then link to other string\n",
    "    \n",
    "plt.legend(fontsize=('x-large'))         # set the size of legend:xx-small,x-small,small,medium,large,x-large,xx-large\n",
    "plt.show()\n"
   ]
  },
  {
   "cell_type": "code",
   "execution_count": 135,
   "metadata": {
    "collapsed": true
   },
   "outputs": [
    {
     "name": "stdout",
     "output_type": "stream",
     "text": [
      "6.03120223711e-20 meV\n",
      "[  0.00000000e+00   3.14159265e+09   6.28318531e+09   9.42477796e+09\n",
      "   1.25663706e+10   1.57079633e+10   1.88495559e+10   2.19911486e+10\n",
      "   2.51327412e+10   2.82743339e+10]\n",
      "[0 1 2 3 4]\n"
     ]
    }
   ],
   "source": [
    "print energy(1,d),\"meV\"\n",
    "print k\n",
    "print i"
   ]
  },
  {
   "cell_type": "code",
   "execution_count": null,
   "metadata": {
    "collapsed": true
   },
   "outputs": [],
   "source": []
  }
 ],
 "metadata": {
  "anaconda-cloud": {},
  "kernelspec": {
   "display_name": "Python [Root]",
   "language": "python",
   "name": "Python [Root]"
  },
  "language_info": {
   "codemirror_mode": {
    "name": "ipython",
    "version": 2
   },
   "file_extension": ".py",
   "mimetype": "text/x-python",
   "name": "python",
   "nbconvert_exporter": "python",
   "pygments_lexer": "ipython2",
   "version": "2.7.11"
  }
 },
 "nbformat": 4,
 "nbformat_minor": 0
}
