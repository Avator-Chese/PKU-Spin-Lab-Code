{
 "cells": [
  {
   "cell_type": "code",
   "execution_count": 18,
   "metadata": {
    "collapsed": false
   },
   "outputs": [
    {
     "name": "stdout",
     "output_type": "stream",
     "text": [
      "ERROR! Session/line number was not unique in database. History logging moved to new session 213\n"
     ]
    }
   ],
   "source": [
    "import pandas as pd\n",
    "import matplotlib.pyplot as plt\n",
    "import sys\n",
    "sys.path.append('E:\\document_pc\\Software Working Zone\\python')\n",
    "import sqa\n",
    "%matplotlib qt\n",
    "import re\n",
    "import os"
   ]
  },
  {
   "cell_type": "code",
   "execution_count": 26,
   "metadata": {
    "collapsed": false
   },
   "outputs": [],
   "source": [
    "path='C:\\\\Users\\\\user\\\\Desktop\\\\KTO\\\\15s\\\\ac'\n",
    "\n",
    "table_fitting_para=sqa.origin_creat_table('fit_para')\n",
    "longname_unit_comment1=[['sysmetrical height','',''],['resonance field','',''],['half linewidth','',''],['asysmetrical height','',''],\n",
    "                        ['linear slope','',''],['constant','',''],['sysmetrical height','',''],['resonance field','',''],\n",
    "                        ['half linewidth','',''],['asysmetrical height','',''],['linear slope','',''],['constant','','']]\n",
    "table_physical_quantity=sqa.origin_creat_table('phy_quan')\n",
    "longname_unit_comment2=[['spin pumping','',''],['seebeck','',''],['resonance field','',''],['half_linewidth','',''],['AHE','',''],['hysteresis','','']]\n",
    "n=0"
   ]
  },
  {
   "cell_type": "code",
   "execution_count": 27,
   "metadata": {
    "collapsed": true
   },
   "outputs": [
    {
     "name": "stdout",
     "output_type": "stream",
     "text": [
      "40K_89.37Hz_@0dBm_7GHz_AC_2phase0.txt\n",
      "\n",
      "\t\tno point => ok \n",
      "\t\t1 point => center\n",
      "\t\t3 point => limit the left and right width\n",
      "\t\t>4 point => repeat\n",
      "        5 point => give up\n",
      "\t\t\n",
      "\n",
      "\t\tno point => ok \n",
      "\t\t1 point => center\n",
      "\t\t3 point => limit the left and right width\n",
      "\t\t>4 point => repeat\n",
      "        5 point => give up\n",
      "\t\t\n",
      "[  3.39161495e-06   5.10720477e+02   3.10057920e+01   7.62690972e-06\n",
      "  -4.26141596e-12  -9.03069527e-08]\n",
      "\n",
      "\t\tno point => ok \n",
      "\t\t1 point => center\n",
      "\t\t3 point => limit the left and right width\n",
      "\t\t>4 point => repeat\n",
      "        5 point => give up\n",
      "\t\t\n",
      "\n",
      "\t\tno point => ok \n",
      "\t\t1 point => center\n",
      "\t\t3 point => limit the left and right width\n",
      "\t\t>4 point => repeat\n",
      "        5 point => give up\n",
      "\t\t\n",
      "[ -3.85537621e-06  -4.99999080e+02   3.10457352e+01   8.20587120e-06\n",
      "  -7.42068081e-12  -1.37042228e-07]\n",
      "[[  3.62349558e-06  -2.31880628e-07   5.05359779e+02   3.10257636e+01\n",
      "    7.91639046e-06   5.36069881e+00]]\n",
      "55K_89.37Hz_@0dBm_7GHz_AC_1phase0.txt\n",
      "\n",
      "\t\tno point => ok \n",
      "\t\t1 point => center\n",
      "\t\t3 point => limit the left and right width\n",
      "\t\t>4 point => repeat\n",
      "        5 point => give up\n",
      "\t\t\n",
      "\n",
      "\t\tno point => ok \n",
      "\t\t1 point => center\n",
      "\t\t3 point => limit the left and right width\n",
      "\t\t>4 point => repeat\n",
      "        5 point => give up\n",
      "\t\t\n",
      "[ -1.00162952e-05   5.26190053e+02   2.71848597e+01   7.77961498e-06\n",
      "  -2.56545962e-11  -3.96667957e-08]\n",
      "\n",
      "\t\tno point => ok \n",
      "\t\t1 point => center\n",
      "\t\t3 point => limit the left and right width\n",
      "\t\t>4 point => repeat\n",
      "        5 point => give up\n",
      "\t\t\n",
      "\n",
      "\t\tno point => ok \n",
      "\t\t1 point => center\n",
      "\t\t3 point => limit the left and right width\n",
      "\t\t>4 point => repeat\n",
      "        5 point => give up\n",
      "\t\t\n",
      "[  1.09309271e-05  -5.15580177e+02   2.75589062e+01   7.71257020e-06\n",
      "  -9.64076780e-12  -1.10132144e-07]\n",
      "[[ -1.04736111e-05   4.57315917e-07   5.20885115e+02   2.73718830e+01\n",
      "    7.74609259e-06   5.30493796e+00]]\n",
      "90K_89.37Hz_@0dBm_7GHz_AC_2phase0.txt\n",
      "\n",
      "\t\tno point => ok \n",
      "\t\t1 point => center\n",
      "\t\t3 point => limit the left and right width\n",
      "\t\t>4 point => repeat\n",
      "        5 point => give up\n",
      "\t\t\n",
      "\n",
      "\t\tno point => ok \n",
      "\t\t1 point => center\n",
      "\t\t3 point => limit the left and right width\n",
      "\t\t>4 point => repeat\n",
      "        5 point => give up\n",
      "\t\t\n",
      "[ -8.52915921e-06   5.33980575e+02   1.76214821e+01   2.01205302e-05\n",
      "   3.59000583e-11  -6.83132680e-08]\n",
      "\n",
      "\t\tno point => ok \n",
      "\t\t1 point => center\n",
      "\t\t3 point => limit the left and right width\n",
      "\t\t>4 point => repeat\n",
      "        5 point => give up\n",
      "\t\t\n",
      "\n",
      "\t\tno point => ok \n",
      "\t\t1 point => center\n",
      "\t\t3 point => limit the left and right width\n",
      "\t\t>4 point => repeat\n",
      "        5 point => give up\n",
      "\t\t\n",
      "[  9.03089158e-06  -5.23519638e+02   1.76632410e+01   2.04271267e-05\n",
      "   1.01110246e-11  -8.97718736e-08]\n",
      "[[ -8.78002540e-06   2.50866185e-07   5.28750107e+02   1.76423615e+01\n",
      "    2.02738284e-05   5.23046824e+00]]\n",
      "fiting results.opj\n"
     ]
    },
    {
     "ename": "AttributeError",
     "evalue": "'NoneType' object has no attribute 'group'",
     "output_type": "error",
     "traceback": [
      "\u001b[1;31m---------------------------------------------------------------------------\u001b[0m",
      "\u001b[1;31mAttributeError\u001b[0m                            Traceback (most recent call last)",
      "\u001b[1;32m<ipython-input-27-c081e5c8c0b6>\u001b[0m in \u001b[0;36m<module>\u001b[1;34m()\u001b[0m\n\u001b[0;32m      3\u001b[0m     \u001b[0mfilename\u001b[0m\u001b[1;33m=\u001b[0m\u001b[0mpath\u001b[0m\u001b[1;33m+\u001b[0m\u001b[1;34m'\\\\'\u001b[0m\u001b[1;33m+\u001b[0m\u001b[0mname\u001b[0m\u001b[1;33m\u001b[0m\u001b[0m\n\u001b[0;32m      4\u001b[0m     \u001b[0mm\u001b[0m\u001b[1;33m=\u001b[0m\u001b[0mre\u001b[0m\u001b[1;33m.\u001b[0m\u001b[0msearch\u001b[0m\u001b[1;33m(\u001b[0m\u001b[1;34m'.{1,3}K'\u001b[0m\u001b[1;33m,\u001b[0m\u001b[0mname\u001b[0m\u001b[1;33m)\u001b[0m\u001b[1;33m\u001b[0m\u001b[0m\n\u001b[1;32m----> 5\u001b[1;33m     \u001b[0mtemperature\u001b[0m\u001b[1;33m=\u001b[0m\u001b[0mm\u001b[0m\u001b[1;33m.\u001b[0m\u001b[0mgroup\u001b[0m\u001b[1;33m(\u001b[0m\u001b[1;33m)\u001b[0m\u001b[1;33m[\u001b[0m\u001b[1;36m0\u001b[0m\u001b[1;33m:\u001b[0m\u001b[1;33m-\u001b[0m\u001b[1;36m1\u001b[0m\u001b[1;33m]\u001b[0m\u001b[1;33m\u001b[0m\u001b[0m\n\u001b[0m\u001b[0;32m      6\u001b[0m \u001b[1;33m\u001b[0m\u001b[0m\n\u001b[0;32m      7\u001b[0m     \u001b[0ma\u001b[0m\u001b[1;33m=\u001b[0m\u001b[0mpd\u001b[0m\u001b[1;33m.\u001b[0m\u001b[0mread_csv\u001b[0m\u001b[1;33m(\u001b[0m\u001b[0mfilename\u001b[0m\u001b[1;33m,\u001b[0m\u001b[0mindex_col\u001b[0m\u001b[1;33m=\u001b[0m\u001b[1;36m0\u001b[0m\u001b[1;33m)\u001b[0m\u001b[1;33m\u001b[0m\u001b[0m\n",
      "\u001b[1;31mAttributeError\u001b[0m: 'NoneType' object has no attribute 'group'"
     ]
    }
   ],
   "source": [
    "# temperature dependent\n",
    "for name in os.listdir(path):   \n",
    "    print(name)\n",
    "    filename=path+'\\\\'+name\\\n",
    "    \n",
    "    m=re.search('.{1,3}K',name)\n",
    "    temperature=m.group()[0:-1]\n",
    "\n",
    "    a=pd.read_csv(filename,index_col=0)\n",
    "    quantity,fitting_para=sqa.fit_positive_negtive_spinpumping(a.index.values,a[a.columns[0]].values)\n",
    "\n",
    "    sqa.origin_get_array(table_fitting_para,temperature,position=[n,0],longname_unit_comment=[['temperature','','']])\n",
    "    sqa.origin_get_array(table_physical_quantity,temperature,position=[n,0],longname_unit_comment=[['power','','']])\n",
    "    sqa.origin_get_array(table_fitting_para,fitting_para,position=[n,1],longname_unit_comment=longname_unit_comment1)\n",
    "    sqa.origin_get_array(table_physical_quantity,quantity,position=[n,1],longname_unit_comment=longname_unit_comment2)\n",
    "    n=n+1"
   ]
  },
  {
   "cell_type": "code",
   "execution_count": null,
   "metadata": {
    "collapsed": true
   },
   "outputs": [],
   "source": [
    "# frequency dependent\n",
    "for name in os.listdir(path):\n",
    "    print(name)\n",
    "    filename=path+'\\\\'+name\\\n",
    "    \n",
    "    m=re.search('.{1,3}G',name)\n",
    "    temperature=m.group()[0:-1]\n",
    "\n",
    "    a=pd.read_csv(filename,index_col=0)\n",
    "    quantity,fitting_para=sqa.fit_positive_negtive_spinpumping(a.index.values,a[a.columns[0]].values)\n",
    "\n",
    "    sqa.origin_get_array(table_fitting_para,temperature,position=[n,0],longname_unit_comment=[['freq','','']])\n",
    "    sqa.origin_get_array(table_physical_quantity,temperature,position=[n,0],longname_unit_comment=[['freq','','']])\n",
    "    sqa.origin_get_array(table_fitting_para,fitting_para,position=[n,1],longname_unit_comment=longname_unit_comment1)\n",
    "    sqa.origin_get_array(table_physical_quantity,quantity,position=[n,1],longname_unit_comment=longname_unit_comment2)\n",
    "    n=n+1"
   ]
  },
  {
   "cell_type": "code",
   "execution_count": null,
   "metadata": {
    "collapsed": true
   },
   "outputs": [],
   "source": [
    "# power dependent\n",
    "for name in os.listdir(path):\n",
    "    print(name)\n",
    "    filename=path+'\\\\'+name\\\n",
    "    \n",
    "    m=re.search('.{1,4}dBm',name)\n",
    "    temperature=m.group()[0:-1]\n",
    "\n",
    "    a=pd.read_csv(filename,index_col=0)\n",
    "    quantity,fitting_para=sqa.fit_positive_negtive_spinpumping(a.index.values,a[a.columns[0]].values)\n",
    "\n",
    "    sqa.origin_get_array(table_fitting_para,temperature,position=[n,0],longname_unit_comment=[['power','','']])\n",
    "    sqa.origin_get_array(table_physical_quantity,temperature,position=[n,0],longname_unit_comment=[['power','','']])\n",
    "    sqa.origin_get_array(table_fitting_para,fitting_para,position=[n,1],longname_unit_comment=longname_unit_comment1)\n",
    "    sqa.origin_get_array(table_physical_quantity,quantity,position=[n,1],longname_unit_comment=longname_unit_comment2)\n",
    "    n=n+1"
   ]
  },
  {
   "cell_type": "code",
   "execution_count": 5,
   "metadata": {
    "collapsed": true
   },
   "outputs": [
    {
     "data": {
      "text/plain": [
       "['100K6GHz_@0dBm_17Hz_AC3phase0.txt',\n",
       " '10K6GHz_@0dBm_17Hz_AC7phase0.txt',\n",
       " '125K6GHz_@0dBm_17Hz_AC2phase0.txt',\n",
       " '150K6GHz_@0dBm_17Hz_AC1phase0.txt',\n",
       " '175K6GHz_@0dBm_17Hz_AC6phase0.txt',\n",
       " '200K6GHz_@0dBm_17Hz_AC5phase0.txt',\n",
       " '225K6GHz_@0dBm_17Hz_AC4phase0.txt',\n",
       " '250K6GHz_@0dBm_17Hz_AC3phase0.txt',\n",
       " '25K6GHz_@0dBm_17Hz_AC6phase0.txt',\n",
       " '275K6GHz_@0dBm_17Hz_AC2phase0.txt',\n",
       " '300K6GHz_@0dBm_17Hz_AC1phase0.txt',\n",
       " '300K6GHz_@0dBm_17Hz_AC8phase0.txt',\n",
       " '50K6GHz_@0dBm_17Hz_AC5phase0.txt',\n",
       " '75K6GHz_@0dBm_17Hz_AC4phase0.txt']"
      ]
     },
     "execution_count": 5,
     "metadata": {},
     "output_type": "execute_result"
    }
   ],
   "source": [
    "path='C:\\\\Users\\\\user\\\\Desktop\\\\STO-1\\\\STO-1'\n",
    "os.listdir(path)"
   ]
  },
  {
   "cell_type": "code",
   "execution_count": null,
   "metadata": {
    "collapsed": false
   },
   "outputs": [],
   "source": [
    "(24.2339+26.51836)/2"
   ]
  },
  {
   "cell_type": "code",
   "execution_count": null,
   "metadata": {
    "collapsed": false
   },
   "outputs": [],
   "source": []
  },
  {
   "cell_type": "code",
   "execution_count": null,
   "metadata": {
    "collapsed": true
   },
   "outputs": [],
   "source": []
  }
 ],
 "metadata": {
  "anaconda-cloud": {},
  "kernelspec": {
   "display_name": "Python [Root]",
   "language": "python",
   "name": "Python [Root]"
  },
  "language_info": {
   "codemirror_mode": {
    "name": "ipython",
    "version": 2
   },
   "file_extension": ".py",
   "mimetype": "text/x-python",
   "name": "python",
   "nbconvert_exporter": "python",
   "pygments_lexer": "ipython2",
   "version": "2.7.11"
  }
 },
 "nbformat": 4,
 "nbformat_minor": 0
}
