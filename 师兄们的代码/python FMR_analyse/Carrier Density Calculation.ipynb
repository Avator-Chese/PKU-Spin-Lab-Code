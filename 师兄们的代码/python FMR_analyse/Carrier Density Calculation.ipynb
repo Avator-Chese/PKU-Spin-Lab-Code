{
 "cells": [
  {
   "cell_type": "code",
   "execution_count": 1,
   "metadata": {
    "collapsed": false
   },
   "outputs": [],
   "source": [
    "import numpy as np\n",
    "import matplotlib.pyplot as plt\n",
    "% matplotlib inline "
   ]
  },
  {
   "cell_type": "code",
   "execution_count": 5,
   "metadata": {
    "collapsed": false
   },
   "outputs": [
    {
     "name": "stdout",
     "output_type": "stream",
     "text": [
      "[ 0.    0.25  0.3   0.35  0.5   0.7 ] \n",
      "[  4.65835616e+13   9.75343321e+13  -1.53748701e+13   2.32917808e+13\n",
      "  -8.58624106e+12  -1.51878279e+13]\n"
     ]
    },
    {
     "data": {
      "text/plain": [
       "[<matplotlib.lines.Line2D at 0x81e2048>]"
      ]
     },
     "execution_count": 5,
     "metadata": {},
     "output_type": "execute_result"
    },
    {
     "data": {
      "image/png": "[encoded data removed]",
      "text/plain": [
       "<matplotlib.figure.Figure at 0x7289c18>"
      ]
     },
     "metadata": {},
     "output_type": "display_data"
    }
   ],
   "source": [
    "doping=np.array([0,0.25,0.3,0.35,0.5,0.7])\n",
    "Slop=np.array([-0.00134,-6.4E-4,0.00406,-0.00268,0.00727,0.00411])\n",
    "#转换成特斯拉单位\n",
    "Slop_T=Slop*1e4\n",
    "#由于Rh=Slop\n",
    "Rh=Slop_T\n",
    "n=-1/(Rh*1.602*1e-19)   #m-2\n",
    "#转换成cm_-2\n",
    "n=n/1e4\n",
    "print doping,'\\n' ,n \n",
    "\n",
    "plt.plot(doping,n,'.')"
   ]
  },
  {
   "cell_type": "code",
   "execution_count": null,
   "metadata": {
    "collapsed": false
   },
   "outputs": [],
   "source": []
  },
  {
   "cell_type": "code",
   "execution_count": null,
   "metadata": {
    "collapsed": true
   },
   "outputs": [],
   "source": []
  },
  {
   "cell_type": "code",
   "execution_count": null,
   "metadata": {
    "collapsed": true
   },
   "outputs": [],
   "source": []
  }
 ],
 "metadata": {
  "anaconda-cloud": {},
  "interpreter": {
   "hash": "06816fa7da650df86993391ac35fecbc152b06781485718d46ad9e602dfe79e1"
  },
  "kernelspec": {
   "display_name": "Python 3.9.6 64-bit",
   "language": "python",
   "name": "python3"
  },
  "language_info": {
   "codemirror_mode": {
    "name": "ipython",
    "version": 2
   },
   "file_extension": ".py",
   "mimetype": "text/x-python",
   "name": "python",
   "nbconvert_exporter": "python",
   "pygments_lexer": "ipython2",
   "version": "3.9.6"
  }
 },
 "nbformat": 4,
 "nbformat_minor": 2
}
